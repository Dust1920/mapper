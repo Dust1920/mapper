{
 "cells": [
  {
   "cell_type": "code",
   "execution_count": null,
   "metadata": {},
   "outputs": [],
   "source": [
    "import mapper as Mapper\n",
    "import mapper_addons as addon\n",
    "import general_codes as gc\n",
    "import mapper_data as mapdata\n",
    "import matplotlib.pyplot as plt\n",
    "import mapper_colors as mapcol\n",
    "import numpy as np\n",
    "import os\n",
    "import pandas as pd"
   ]
  },
  {
   "cell_type": "code",
   "execution_count": null,
   "metadata": {},
   "outputs": [],
   "source": [
    "sonora = Mapper.new_map(region = 'sonora')\n",
    "data = pd.read_excel(\"data\\\\educ-data.xlsx\")\n",
    "\n",
    "educ = data.iloc[1:, 1:]"
   ]
  },
  {
   "cell_type": "code",
   "execution_count": null,
   "metadata": {},
   "outputs": [],
   "source": [
    "educ.columns = educ.loc[1]\n",
    "\n",
    "educ.drop(index = 1, inplace=True)\n"
   ]
  },
  {
   "cell_type": "code",
   "execution_count": null,
   "metadata": {},
   "outputs": [],
   "source": [
    "ciclos = list(educ['Ciclo'].unique())\n",
    "df_c0 = educ[educ['Ciclo'] == ciclos[0]]\n",
    "\n",
    "\n",
    "df_c0 = df_c0.iloc[:-1, :]\n",
    "df_c0.set_index('Municipio', drop=True, inplace=True)\n",
    "\n",
    "\n",
    "mundata = list(df_c0.index)\n",
    "munson = list(sonora.index)\n",
    "\n",
    "son_to_data = [mundata.index(m.upper()) for m in munson]\n",
    "sonmun = [mundata[i] for i in son_to_data]\n",
    "\n",
    "\n",
    "n_df = pd.DataFrame(index = sonmun, columns = ['Alumnos'])\n",
    "for id in n_df.index:\n",
    "    n_df.loc[id, 'Alumnos'] = df_c0.loc[id, 'Alumnos']\n",
    "\n",
    "n_df['Comp'] = munson\n",
    "n_df"
   ]
  },
  {
   "cell_type": "code",
   "execution_count": null,
   "metadata": {},
   "outputs": [],
   "source": [
    "sonora['Alumnos'] = n_df['Alumnos'].to_list()\n",
    "\n",
    "sonora"
   ]
  },
  {
   "cell_type": "code",
   "execution_count": null,
   "metadata": {},
   "outputs": [],
   "source": [
    "fig, ax = plt.subplots(figsize = (20,20))\n",
    "sonora.plot('Alumnos', legend = True, scheme = \"percentiles\", ax = ax, cmap = \"Blues\")\n",
    "ax.set_axis_off()"
   ]
  },
  {
   "cell_type": "code",
   "execution_count": null,
   "metadata": {},
   "outputs": [],
   "source": [
    "import plotly.express as px\n",
    "import mapper as Mapper\n",
    "\n",
    "sonora = Mapper.new_map(region = 'sonora')\n",
    "sonora = sonora.to_crs(\"WGS84\")\n",
    "sonora['Joly'] = [2 * x for x in range(len(sonora))]\n",
    "\n",
    "fig = px.choropleth_mapbox(sonora,\n",
    "                           geojson=sonora.geometry,\n",
    "                           locations=sonora.index,\n",
    "                           color=\"Joly\",\n",
    "                           center={\"lat\": 29, \"lon\": -110},\n",
    "                           mapbox_style=\"carto-positron\",\n",
    "                           zoom = 4.6)\n",
    "\n",
    "fig"
   ]
  },
  {
   "cell_type": "code",
   "execution_count": null,
   "metadata": {},
   "outputs": [],
   "source": [
    "sonora.plot()\n",
    "sonora.crs"
   ]
  },
  {
   "cell_type": "markdown",
   "metadata": {},
   "source": []
  }
 ],
 "metadata": {
  "kernelspec": {
   "display_name": "ISAF",
   "language": "python",
   "name": "python3"
  },
  "language_info": {
   "codemirror_mode": {
    "name": "ipython",
    "version": 3
   },
   "file_extension": ".py",
   "mimetype": "text/x-python",
   "name": "python",
   "nbconvert_exporter": "python",
   "pygments_lexer": "ipython3",
   "version": "3.10.13"
  }
 },
 "nbformat": 4,
 "nbformat_minor": 2
}
